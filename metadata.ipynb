{
  "nbformat": 4,
  "nbformat_minor": 0,
  "metadata": {
    "colab": {
      "provenance": []
    },
    "kernelspec": {
      "name": "python3",
      "display_name": "Python 3"
    },
    "language_info": {
      "name": "python"
    }
  },
  "cells": [
    {
      "cell_type": "code",
      "source": [
        "import pandas as pd\n",
        "\n",
        "# Medicine details data\n",
        "data = {\n",
        "    'Medicine Name': ['Paracetamol', 'Ibuprofen', 'Amoxicillin', 'Cetirizine'],\n",
        "    'Dosage (mg)': [500, 200, 250, 10],\n",
        "    'Manufacturer': ['Pharma Inc.', 'HealthCorp', 'MedLife', 'AllergyFree'],\n",
        "    'Expiry Date': ['2025-05-01', '2024-12-15', '2025-07-10', '2023-11-30'],\n",
        "    'Price (INR)': [50, 30, 45, 25]\n",
        "}\n",
        "\n",
        "# Create the DataFrame\n",
        "df = pd.DataFrame(data)\n",
        "\n",
        "# Metadata\n",
        "metadata = {\n",
        "    'columns': {\n",
        "        'Medicine Name': 'Name of the medicine',\n",
        "        'Dosage (mg)': 'Dosage of the medicine in milligrams',\n",
        "        'Manufacturer': 'Name of the manufacturing company',\n",
        "        'Expiry Date': 'Expiry date of the medicine',\n",
        "        'Price (INR)': 'Price of the medicine in Indian Rupees'\n",
        "    },\n",
        "    'source': 'Sample data for demonstration purposes',\n",
        "    'created_on': '2024-11-30',\n",
        "    'created_by': 'Your Name'\n",
        "}\n",
        "\n",
        "# Use a dictionary to store DataFrame and its metadata\n",
        "data_bundle = {\n",
        "    'data': df,\n",
        "    'metadata': metadata\n",
        "}\n",
        "\n",
        "# Display the DataFrame and Metadata\n",
        "print(data_bundle['data'])\n",
        "print(\"\\nMetadata:\")\n",
        "print(data_bundle['metadata'])\n"
      ],
      "metadata": {
        "colab": {
          "base_uri": "https://localhost:8080/"
        },
        "id": "vusxg5taoJKH",
        "outputId": "1921cb79-c320-40fe-b5cd-b1a88e78b0a8"
      },
      "execution_count": 13,
      "outputs": [
        {
          "output_type": "stream",
          "name": "stdout",
          "text": [
            "  Medicine Name  Dosage (mg) Manufacturer Expiry Date  Price (INR)\n",
            "0   Paracetamol          500  Pharma Inc.  2025-05-01           50\n",
            "1     Ibuprofen          200   HealthCorp  2024-12-15           30\n",
            "2   Amoxicillin          250      MedLife  2025-07-10           45\n",
            "3    Cetirizine           10  AllergyFree  2023-11-30           25\n",
            "\n",
            "Metadata:\n",
            "{'columns': {'Medicine Name': 'Name of the medicine', 'Dosage (mg)': 'Dosage of the medicine in milligrams', 'Manufacturer': 'Name of the manufacturing company', 'Expiry Date': 'Expiry date of the medicine', 'Price (INR)': 'Price of the medicine in Indian Rupees'}, 'source': 'Sample data for demonstration purposes', 'created_on': '2024-11-30', 'created_by': 'Your Name'}\n"
          ]
        }
      ]
    }
  ]
}