{
 "cells": [
  {
   "cell_type": "code",
   "execution_count": 1,
   "id": "79d13c6a-14ce-46e8-82a1-45dcc4c7fb8d",
   "metadata": {},
   "outputs": [
    {
     "name": "stdout",
     "output_type": "stream",
     "text": [
      "Hello, world!\n"
     ]
    }
   ],
   "source": [
    "print(\"Hello, world!\")\n"
   ]
  },
  {
   "cell_type": "code",
   "execution_count": 2,
   "id": "0d952cd8-cfe7-4adb-93fd-79166542a895",
   "metadata": {},
   "outputs": [
    {
     "name": "stdin",
     "output_type": "stream",
     "text": [
      "Enter first number:  8\n",
      "Enter second number:  8\n"
     ]
    },
    {
     "name": "stdout",
     "output_type": "stream",
     "text": [
      "The sum of 8.0 and 8.0 is 16.0\n"
     ]
    }
   ],
   "source": [
    "# This program adds two numbers provided by the user\n",
    "num1 = float(input(\"Enter first number: \"))\n",
    "num2 = float(input(\"Enter second number: \"))\n",
    "\n",
    "# Add two numbers\n",
    "sum = num1 + num2\n",
    "\n",
    "# Display the sum\n",
    "print(f\"The sum of {num1} and {num2} is {sum}\")\n"
   ]
  },
  {
   "cell_type": "code",
   "execution_count": 6,
   "id": "6cd60b7f-788b-4772-8794-4c9551f0f748",
   "metadata": {},
   "outputs": [
    {
     "name": "stdin",
     "output_type": "stream",
     "text": [
      "Enter a number:  4\n"
     ]
    },
    {
     "name": "stdout",
     "output_type": "stream",
     "text": [
      "The square of 4.0 is 16.0\n"
     ]
    }
   ],
   "source": [
    "# This program calculates the square of a given number\n",
    "num = float(input(\"Enter a number: \"))\n",
    "square = num ** 2\n",
    "\n",
    "print(f\"The square of {num} is {square}\")\n"
   ]
  },
  {
   "cell_type": "code",
   "execution_count": 5,
   "id": "27955ce7-f7f7-4e65-800a-97f96b379783",
   "metadata": {},
   "outputs": [
    {
     "name": "stdin",
     "output_type": "stream",
     "text": [
      "Enter a number:  9\n"
     ]
    },
    {
     "name": "stdout",
     "output_type": "stream",
     "text": [
      "9 is odd.\n"
     ]
    }
   ],
   "source": [
    "# This program checks if a number is even or odd\n",
    "num = int(input(\"Enter a number: \"))\n",
    "\n",
    "if num % 2 == 0:\n",
    "    print(f\"{num} is even.\")\n",
    "else:\n",
    "    print(f\"{num} is odd.\")\n"
   ]
  },
  {
   "cell_type": "code",
   "execution_count": 10,
   "id": "72c908a1-b937-48f6-9578-57a4c026c8e5",
   "metadata": {},
   "outputs": [
    {
     "name": "stdout",
     "output_type": "stream",
     "text": [
      "Select operation:\n",
      "1. Add\n",
      "2. Subtract\n",
      "3. Multiply\n",
      "4. Divide\n"
     ]
    },
    {
     "name": "stdin",
     "output_type": "stream",
     "text": [
      "Enter choice (1/2/3/4):  4\n",
      "Enter first number:  8\n",
      "Enter second number:  2\n"
     ]
    },
    {
     "name": "stdout",
     "output_type": "stream",
     "text": [
      "8.0 / 2.0 = 4.0\n"
     ]
    }
   ],
   "source": [
    "# This program performs basic arithmetic operations\n",
    "def add(x, y):\n",
    "    return x + y\n",
    "\n",
    "def subtract(x, y):\n",
    "    return x - y\n",
    "\n",
    "def multiply(x, y):\n",
    "    return x * y\n",
    "\n",
    "def divide(x, y):\n",
    "    return x / y\n",
    "\n",
    "print(\"Select operation:\")\n",
    "print(\"1. Add\")\n",
    "print(\"2. Subtract\")\n",
    "print(\"3. Multiply\")\n",
    "print(\"4. Divide\")\n",
    "\n",
    "choice = input(\"Enter choice (1/2/3/4): \")\n",
    "\n",
    "num1 = float(input(\"Enter first number: \"))\n",
    "num2 = float(input(\"Enter second number: \"))\n",
    "\n",
    "if choice == '1':\n",
    "    print(f\"{num1} + {num2} = {add(num1, num2)}\")\n",
    "elif choice == '2':\n",
    "    print(f\"{num1} - {num2} = {subtract(num1, num2)}\")\n",
    "elif choice == '3':\n",
    "    print(f\"{num1} * {num2} = {multiply(num1, num2)}\")\n",
    "elif choice == '4':\n",
    "    print(f\"{num1} / {num2} = {divide(num1, num2)}\")\n",
    "else:\n",
    "    print(\"Invalid input\")\n"
   ]
  },
  {
   "cell_type": "code",
   "execution_count": 1,
   "id": "e7901d5b-2552-46a0-97bb-5eac16cfd20d",
   "metadata": {},
   "outputs": [
    {
     "name": "stdin",
     "output_type": "stream",
     "text": [
      "Enter the first string:  sweety\n",
      "Enter the second string:  sonia\n"
     ]
    },
    {
     "name": "stdout",
     "output_type": "stream",
     "text": [
      "Concatenated string: sweetysonia\n"
     ]
    }
   ],
   "source": [
    "# This program concatenates two strings\n",
    "str1 = input(\"Enter the first string: \")\n",
    "str2 = input(\"Enter the second string: \")\n",
    "\n",
    "result = str1 + str2\n",
    "print(\"Concatenated string:\", result)\n",
    "\n"
   ]
  },
  {
   "cell_type": "code",
   "execution_count": 2,
   "id": "b7812c84-e805-45f5-a417-709ea8031a3b",
   "metadata": {},
   "outputs": [
    {
     "name": "stdin",
     "output_type": "stream",
     "text": [
      "Enter a string:  sweety\n"
     ]
    },
    {
     "name": "stdout",
     "output_type": "stream",
     "text": [
      "Reversed string: yteews\n"
     ]
    }
   ],
   "source": [
    "# This program reverses a given string\n",
    "str = input(\"Enter a string: \")\n",
    "\n",
    "reversed_str = str[::-1]\n",
    "print(\"Reversed string:\", reversed_str)\n",
    "\n",
    "\n"
   ]
  },
  {
   "cell_type": "code",
   "execution_count": 3,
   "id": "6c60bdc0-273e-4711-ad4f-f27813591cbd",
   "metadata": {},
   "outputs": [
    {
     "name": "stdin",
     "output_type": "stream",
     "text": [
      "Enter a string:  sweety\n"
     ]
    },
    {
     "name": "stdout",
     "output_type": "stream",
     "text": [
      "Number of characters in the string: 6\n"
     ]
    }
   ],
   "source": [
    "# This program counts the number of characters in a string\n",
    "str = input(\"Enter a string: \")\n",
    "\n",
    "char_count = len(str)\n",
    "print(\"Number of characters in the string:\", char_count)\n"
   ]
  },
  {
   "cell_type": "code",
   "execution_count": 6,
   "id": "d33e6a8d-0b67-4b05-a220-2d529f79df71",
   "metadata": {},
   "outputs": [
    {
     "name": "stdin",
     "output_type": "stream",
     "text": [
      "Enter a string:  madam\n"
     ]
    },
    {
     "name": "stdout",
     "output_type": "stream",
     "text": [
      "madam is a palindrome.\n"
     ]
    }
   ],
   "source": [
    "# This program checks if a string is a palindrome\n",
    "str = input(\"Enter a string: \")\n",
    "\n",
    "if str == str[::-1]:\n",
    "    print(f\"{str} is a palindrome.\")\n",
    "else:\n",
    "    print(f\"{str} is not a palindrome.\")\n"
   ]
  },
  {
   "cell_type": "code",
   "execution_count": 7,
   "id": "177f7859-d7a3-47bf-8596-4bceb1d3a1cc",
   "metadata": {},
   "outputs": [
    {
     "name": "stdin",
     "output_type": "stream",
     "text": [
      "Enter a string:  SweetY\n"
     ]
    },
    {
     "name": "stdout",
     "output_type": "stream",
     "text": [
      "Upper case string: SWEETY\n"
     ]
    }
   ],
   "source": [
    "# This program converts a string to upper case\n",
    "str = input(\"Enter a string: \")\n",
    "\n",
    "upper_str = str.upper()\n",
    "print(\"Upper case string:\", upper_str)\n"
   ]
  },
  {
   "cell_type": "code",
   "execution_count": 9,
   "id": "9f7726f9-42ee-4ab0-a4c9-60a17f7cd2b5",
   "metadata": {},
   "outputs": [
    {
     "name": "stdin",
     "output_type": "stream",
     "text": [
      "Enter the main string:  sweety\n",
      "Enter the substring to find:  sonia\n"
     ]
    },
    {
     "name": "stdout",
     "output_type": "stream",
     "text": [
      "'sonia' is not found in the main string.\n"
     ]
    }
   ],
   "source": [
    "# This program finds a substring in a given string\n",
    "str = input(\"Enter the main string: \")\n",
    "substr = input(\"Enter the substring to find: \")\n",
    "\n",
    "if substr in str:\n",
    "    print(f\"'{substr}' is found in the main string.\")\n",
    "else:\n",
    "    print(f\"'{substr}' is not found in the main string.\")\n"
   ]
  },
  {
   "cell_type": "code",
   "execution_count": 11,
   "id": "ddc9657a-0c7b-4e55-9915-7ceadf9537b3",
   "metadata": {},
   "outputs": [],
   "source": [
    "# Creating a tuple\n",
    "my_tuple = (1, 2, 3, \"apple\", \"banana\")\n",
    "\n",
    "# Empty tuple\n",
    "empty_tuple = ()\n",
    "\n",
    "# Tuple with one item (note the comma)\n",
    "single_item_tuple = (5,)\n"
   ]
  },
  {
   "cell_type": "code",
   "execution_count": 12,
   "id": "262f704e-fd53-4257-b82d-758e49906016",
   "metadata": {},
   "outputs": [
    {
     "name": "stdout",
     "output_type": "stream",
     "text": [
      "1\n",
      "apple\n",
      "banana\n",
      "apple\n"
     ]
    }
   ],
   "source": [
    "# Accessing elements using indexing\n",
    "print(my_tuple[0])  # Output: 1\n",
    "print(my_tuple[3])  # Output: apple\n",
    "\n",
    "# Negative indexing\n",
    "print(my_tuple[-1])  # Output: banana\n",
    "print(my_tuple[-2])  # Output: apple\n"
   ]
  },
  {
   "cell_type": "code",
   "execution_count": 13,
   "id": "ecb2979b-ce42-47f2-bfa7-ab0044930e3c",
   "metadata": {},
   "outputs": [
    {
     "name": "stdout",
     "output_type": "stream",
     "text": [
      "(2, 3, 'apple')\n",
      "(1, 2, 3)\n",
      "(3, 'apple', 'banana')\n"
     ]
    }
   ],
   "source": [
    "# Slicing tuples\n",
    "print(my_tuple[1:4])  # Output: (2, 3, 'apple')\n",
    "print(my_tuple[:3])   # Output: (1, 2, 3)\n",
    "print(my_tuple[2:])   # Output: (3, 'apple', 'banana')\n"
   ]
  },
  {
   "cell_type": "code",
   "execution_count": 14,
   "id": "03015774-7975-43ae-833f-56b34f76137d",
   "metadata": {},
   "outputs": [
    {
     "name": "stdout",
     "output_type": "stream",
     "text": [
      "1\n",
      "apple\n"
     ]
    }
   ],
   "source": [
    "# Unpacking tuples\n",
    "(a, b, c, d, e) = my_tuple\n",
    "print(a)  # Output: 1\n",
    "print(d)  # Output: apple\n"
   ]
  },
  {
   "cell_type": "code",
   "execution_count": 15,
   "id": "37b90f5f-f1c6-4b91-8ee0-80c66e6bd11e",
   "metadata": {},
   "outputs": [
    {
     "name": "stdout",
     "output_type": "stream",
     "text": [
      "1\n",
      "4\n"
     ]
    }
   ],
   "source": [
    "# Count method\n",
    "print(my_tuple.count(3))  # Output: 1\n",
    "\n",
    "# Index method\n",
    "print(my_tuple.index(\"banana\"))  # Output: 4\n"
   ]
  },
  {
   "cell_type": "code",
   "execution_count": 16,
   "id": "f9ae271c-dd11-4823-9ec9-e4f668175176",
   "metadata": {},
   "outputs": [
    {
     "name": "stdout",
     "output_type": "stream",
     "text": [
      "(1, 2, 3, 4, 5, 6)\n",
      "(1, 2, 3, 1, 2, 3, 1, 2, 3)\n"
     ]
    }
   ],
   "source": [
    "# Concatenating tuples\n",
    "tuple1 = (1, 2, 3)\n",
    "tuple2 = (4, 5, 6)\n",
    "concatenated_tuple = tuple1 + tuple2\n",
    "print(concatenated_tuple)  # Output: (1, 2, 3, 4, 5, 6)\n",
    "\n",
    "# Repeating tuples\n",
    "repeated_tuple = tuple1 * 3\n",
    "print(repeated_tuple)  # Output: (1, 2, 3, 1, 2, 3, 1, 2, 3)\n"
   ]
  },
  {
   "cell_type": "code",
   "execution_count": 1,
   "id": "bf0d3eb8-6af5-48b0-ad1f-b317685f1ace",
   "metadata": {},
   "outputs": [],
   "source": [
    "import array as arr\n"
   ]
  },
  {
   "cell_type": "code",
   "execution_count": 2,
   "id": "fd19da80-e8dc-4464-ab51-a4d15188f23d",
   "metadata": {},
   "outputs": [
    {
     "name": "stdout",
     "output_type": "stream",
     "text": [
      "array('i', [1, 2, 3, 4, 5])\n"
     ]
    }
   ],
   "source": [
    "# Create an array of integers\n",
    "my_array = arr.array('i', [1, 2, 3, 4, 5])\n",
    "print(my_array)  # Output: array('i', [1, 2, 3, 4, 5])\n"
   ]
  },
  {
   "cell_type": "code",
   "execution_count": null,
   "id": "20cc65cb-d6ee-433f-b666-326b0b812483",
   "metadata": {},
   "outputs": [],
   "source": [
    "# Accessing elements using indexing\n",
    "print(my_array[0])  # Output: 1\n",
    "print(my_array[2])  # Output: 3\n",
    "\n",
    "# Accessing elements using slicing\n",
    "print(my_array[1:4])  # Output: array('i', [2, 3, 4])\n"
   ]
  },
  {
   "cell_type": "code",
   "execution_count": 3,
   "id": "7c2721c3-7038-4e90-b9f7-2f8ad2e9ce86",
   "metadata": {},
   "outputs": [
    {
     "name": "stdout",
     "output_type": "stream",
     "text": [
      "1\n",
      "3\n",
      "array('i', [2, 3, 4])\n"
     ]
    }
   ],
   "source": [
    "# Accessing elements using indexing\n",
    "print(my_array[0])  # Output: 1\n",
    "print(my_array[2])  # Output: 3\n",
    "\n",
    "# Accessing elements using slicing\n",
    "print(my_array[1:4])  # Output: array('i', [2, 3, 4])\n"
   ]
  },
  {
   "cell_type": "code",
   "execution_count": 4,
   "id": "8c201b19-7ea5-4c16-a0cc-595fa20573c4",
   "metadata": {},
   "outputs": [
    {
     "name": "stdout",
     "output_type": "stream",
     "text": [
      "array('i', [1, 2, 3, 4, 5, 6])\n",
      "array('i', [0, 1, 2, 3, 4, 5, 6])\n"
     ]
    }
   ],
   "source": [
    "# Add elements to the end of the array\n",
    "my_array.append(6)\n",
    "print(my_array)  # Output: array('i', [1, 2, 3, 4, 5, 6])\n",
    "\n",
    "# Insert an element at a specific position\n",
    "my_array.insert(0, 0)\n",
    "print(my_array)  # Output: array('i', [0, 1, 2, 3, 4, 5, 6])\n"
   ]
  },
  {
   "cell_type": "code",
   "execution_count": 5,
   "id": "e09edbed-63dc-4097-bc9b-e01d6edb469e",
   "metadata": {},
   "outputs": [
    {
     "name": "stdout",
     "output_type": "stream",
     "text": [
      "array('i', [0, 1, 2, 4, 5, 6])\n",
      "array('i', [0, 1, 2, 4, 5])\n"
     ]
    }
   ],
   "source": [
    "# Remove a specific element\n",
    "my_array.remove(3)\n",
    "print(my_array)  # Output: array('i', [0, 1, 2, 4, 5, 6])\n",
    "\n",
    "# Remove the last element\n",
    "my_array.pop()\n",
    "print(my_array)  # Output: array('i', [0, 1, 2, 4, 5])\n"
   ]
  },
  {
   "cell_type": "code",
   "execution_count": 6,
   "id": "c0803ca8-a143-4031-937f-55de4b1027a3",
   "metadata": {},
   "outputs": [
    {
     "name": "stdout",
     "output_type": "stream",
     "text": [
      "array('i', [0, 1, 10, 4, 5])\n"
     ]
    }
   ],
   "source": [
    "# Update an element at a specific index\n",
    "my_array[2] = 10\n",
    "print(my_array)  # Output: array('i', [0, 1, 10, 4, 5])\n"
   ]
  },
  {
   "cell_type": "code",
   "execution_count": 7,
   "id": "eeada82b-834d-4a95-8733-715e8162584a",
   "metadata": {},
   "outputs": [
    {
     "name": "stdout",
     "output_type": "stream",
     "text": [
      "5\n",
      "array('i', [5, 4, 10, 1, 0])\n"
     ]
    }
   ],
   "source": [
    "# Getting the length of the array\n",
    "length = len(my_array)\n",
    "print(length)  # Output: 5\n",
    "\n",
    "# Reversing the array\n",
    "my_array.reverse()\n",
    "print(my_array)  # Output: array('i', [5, 4, 10, 1, 0])\n"
   ]
  },
  {
   "cell_type": "code",
   "execution_count": 10,
   "id": "1847fa1f-edd0-42ac-bec2-fe5b417ee880",
   "metadata": {},
   "outputs": [],
   "source": [
    "# Creating a list of numbers\n",
    "numbers = [1, 2, 3, 4, 5]\n",
    "\n",
    "# Creating a list of mixed data types\n",
    "mixed_list = [1, \"apple\", 3.14, True]\n",
    "\n",
    "# Creating an empty list\n",
    "empty_list = []\n"
   ]
  },
  {
   "cell_type": "code",
   "execution_count": 11,
   "id": "cf7e36ad-6af5-4b54-b3d5-c36aa66dc2cc",
   "metadata": {},
   "outputs": [
    {
     "name": "stdout",
     "output_type": "stream",
     "text": [
      "1\n",
      "3\n",
      "5\n",
      "3\n",
      "[2, 3, 4]\n"
     ]
    }
   ],
   "source": [
    "# Accessing elements using indexing\n",
    "print(numbers[0])  # Output: 1\n",
    "print(numbers[2])  # Output: 3\n",
    "\n",
    "# Accessing elements using negative indexing\n",
    "print(numbers[-1])  # Output: 5\n",
    "print(numbers[-3])  # Output: 3\n",
    "\n",
    "# Slicing a list\n",
    "print(numbers[1:4])  # Output: [2, 3, 4]\n"
   ]
  },
  {
   "cell_type": "code",
   "execution_count": 12,
   "id": "86528378-fdcb-47e9-9011-c45b6ad7160a",
   "metadata": {},
   "outputs": [
    {
     "name": "stdout",
     "output_type": "stream",
     "text": [
      "[1, 2, 3, 4, 5, 6]\n",
      "[0, 1, 2, 3, 4, 5, 6]\n",
      "[0, 1, 2, 3, 4, 5, 6, 7, 8, 9]\n"
     ]
    }
   ],
   "source": [
    "# Adding a single element to the end of the list\n",
    "numbers.append(6)\n",
    "print(numbers)  # Output: [1, 2, 3, 4, 5, 6]\n",
    "\n",
    "# Inserting an element at a specific position\n",
    "numbers.insert(0, 0)\n",
    "print(numbers)  # Output: [0, 1, 2, 3, 4, 5, 6]\n",
    "\n",
    "# Extending a list with another list\n",
    "additional_numbers = [7, 8, 9]\n",
    "numbers.extend(additional_numbers)\n",
    "print(numbers)  # Output: [0, 1, 2, 3, 4, 5, 6, 7, 8, 9]\n"
   ]
  },
  {
   "cell_type": "code",
   "execution_count": 13,
   "id": "04d132a5-6e47-4122-b267-be4fbe555899",
   "metadata": {},
   "outputs": [
    {
     "name": "stdout",
     "output_type": "stream",
     "text": [
      "[0, 1, 2, 4, 5, 6, 7, 8, 9]\n",
      "[0, 1, 2, 4, 5, 6, 7, 8]\n",
      "[1, 2, 4, 5, 6, 7, 8]\n"
     ]
    }
   ],
   "source": [
    "# Removing a specific element\n",
    "numbers.remove(3)\n",
    "print(numbers)  # Output: [0, 1, 2, 4, 5, 6, 7, 8, 9]\n",
    "\n",
    "# Removing the last element\n",
    "numbers.pop()\n",
    "print(numbers)  # Output: [0, 1, 2, 4, 5, 6, 7, 8]\n",
    "\n",
    "# Removing an element by index\n",
    "del numbers[0]\n",
    "print(numbers)  # Output: [1, 2, 4, 5, 6, 7, 8]\n"
   ]
  },
  {
   "cell_type": "code",
   "execution_count": 14,
   "id": "4ca42916-a026-48da-a523-d92b105506ec",
   "metadata": {},
   "outputs": [
    {
     "name": "stdout",
     "output_type": "stream",
     "text": [
      "[1, 2, 10, 5, 6, 7, 8]\n"
     ]
    }
   ],
   "source": [
    "# Updating an element at a specific index\n",
    "numbers[2] = 10\n",
    "print(numbers)  # Output: [1, 2, 10, 5, 6, 7, 8]\n"
   ]
  },
  {
   "cell_type": "code",
   "execution_count": 15,
   "id": "0086206a-e3f9-4ddc-9cfc-af1a29c1e587",
   "metadata": {},
   "outputs": [
    {
     "name": "stdout",
     "output_type": "stream",
     "text": [
      "7\n",
      "[8, 7, 6, 5, 10, 2, 1]\n",
      "[1, 2, 5, 6, 7, 8, 10]\n"
     ]
    }
   ],
   "source": [
    "# Getting the length of the list\n",
    "length = len(numbers)\n",
    "print(length)  # Output: 7\n",
    "\n",
    "# Reversing a list\n",
    "numbers.reverse()\n",
    "print(numbers)  # Output: [8, 7, 6, 5, 10, 2, 1]\n",
    "\n",
    "# Sorting a list\n",
    "numbers.sort()\n",
    "print(numbers)  # Output: [1, 2, 5, 6, 7, 8, 10]\n"
   ]
  },
  {
   "cell_type": "code",
   "execution_count": 16,
   "id": "5d385acd-a096-418e-a3a0-59379ecef061",
   "metadata": {},
   "outputs": [],
   "source": [
    "# Creating a dictionary\n",
    "my_dict = {\n",
    "    \"name\": \"John\",\n",
    "    \"age\": 30,\n",
    "    \"city\": \"New York\"\n",
    "}\n",
    "\n",
    "# Creating an empty dictionary\n",
    "empty_dict = {}\n"
   ]
  },
  {
   "cell_type": "code",
   "execution_count": 17,
   "id": "e9832810-e6d4-413d-b128-4d64204c9be7",
   "metadata": {},
   "outputs": [
    {
     "name": "stdout",
     "output_type": "stream",
     "text": [
      "John\n",
      "30\n"
     ]
    }
   ],
   "source": [
    "# Accessing values using keys\n",
    "print(my_dict[\"name\"])  # Output: John\n",
    "print(my_dict[\"age\"])   # Output: 30\n"
   ]
  },
  {
   "cell_type": "code",
   "execution_count": 18,
   "id": "bc6a231c-ec9e-48eb-8d9d-c75e1746035a",
   "metadata": {},
   "outputs": [
    {
     "name": "stdout",
     "output_type": "stream",
     "text": [
      "{'name': 'John', 'age': 30, 'city': 'New York', 'job': 'Engineer'}\n",
      "{'name': 'John', 'age': 31, 'city': 'New York', 'job': 'Engineer'}\n"
     ]
    }
   ],
   "source": [
    "# Adding a new key-value pair\n",
    "my_dict[\"job\"] = \"Engineer\"\n",
    "print(my_dict)  # Output: {'name': 'John', 'age': 30, 'city': 'New York', 'job': 'Engineer'}\n",
    "\n",
    "# Updating an existing key-value pair\n",
    "my_dict[\"age\"] = 31\n",
    "print(my_dict)  # Output: {'name': 'John', 'age': 31, 'city': 'New York', 'job': 'Engineer'}\n"
   ]
  },
  {
   "cell_type": "code",
   "execution_count": 19,
   "id": "fd4183af-30e3-4701-a9d2-67b54ba89ff9",
   "metadata": {},
   "outputs": [
    {
     "name": "stdout",
     "output_type": "stream",
     "text": [
      "{'name': 'John', 'age': 31, 'job': 'Engineer'}\n",
      "{'name': 'John', 'age': 31}\n"
     ]
    }
   ],
   "source": [
    "# Removing a key-value pair using pop()\n",
    "my_dict.pop(\"city\")\n",
    "print(my_dict)  # Output: {'name': 'John', 'age': 31, 'job': 'Engineer'}\n",
    "\n",
    "# Removing a key-value pair using del\n",
    "del my_dict[\"job\"]\n",
    "print(my_dict)  # Output: {'name': 'John', 'age': 31}\n"
   ]
  },
  {
   "cell_type": "code",
   "execution_count": 20,
   "id": "cd3a25c1-cc2e-486e-8279-0023d57c4ae5",
   "metadata": {},
   "outputs": [
    {
     "name": "stdout",
     "output_type": "stream",
     "text": [
      "name\n",
      "age\n",
      "John\n",
      "31\n",
      "name: John\n",
      "age: 31\n"
     ]
    }
   ],
   "source": [
    "# Iterating over keys\n",
    "for key in my_dict:\n",
    "    print(key)  # Output: name, age\n",
    "\n",
    "# Iterating over values\n",
    "for value in my_dict.values():\n",
    "    print(value)  # Output: John, 31\n",
    "\n",
    "# Iterating over key-value pairs\n",
    "for key, value in my_dict.items():\n",
    "    print(f\"{key}: {value}\")  # Output: name: John, age: 31\n"
   ]
  },
  {
   "cell_type": "code",
   "execution_count": 21,
   "id": "3fd9a54f-0251-42b1-bbb3-d10677dc6878",
   "metadata": {},
   "outputs": [
    {
     "name": "stdout",
     "output_type": "stream",
     "text": [
      "dict_keys(['name', 'age'])\n",
      "dict_values(['John', 31])\n",
      "Name exists in the dictionary.\n"
     ]
    }
   ],
   "source": [
    "# Getting all keys\n",
    "keys = my_dict.keys()\n",
    "print(keys)  # Output: dict_keys(['name', 'age'])\n",
    "\n",
    "# Getting all values\n",
    "values = my_dict.values()\n",
    "print(values)  # Output: dict_values(['John', 31])\n",
    "\n",
    "# Checking if a key exists\n",
    "if \"name\" in my_dict:\n",
    "    print(\"Name exists in the dictionary.\")  # Output: Name exists in the dictionary.\n"
   ]
  },
  {
   "cell_type": "code",
   "execution_count": 22,
   "id": "214c374e-e574-4dc9-981b-8d22841d215f",
   "metadata": {},
   "outputs": [
    {
     "name": "stdout",
     "output_type": "stream",
     "text": [
      "John\n",
      "25\n"
     ]
    }
   ],
   "source": [
    "# Creating a nested dictionary\n",
    "nested_dict = {\n",
    "    \"employee1\": {\n",
    "        \"name\": \"John\",\n",
    "        \"age\": 30\n",
    "    },\n",
    "    \"employee2\": {\n",
    "        \"name\": \"Emma\",\n",
    "        \"age\": 25\n",
    "    }\n",
    "}\n",
    "\n",
    "# Accessing values in a nested dictionary\n",
    "print(nested_dict[\"employee1\"][\"name\"])  # Output: John\n",
    "print(nested_dict[\"employee2\"][\"age\"])   # Output: 25\n"
   ]
  },
  {
   "cell_type": "code",
   "execution_count": null,
   "id": "8193ab26-7647-41f1-9958-8c553d38e5b6",
   "metadata": {},
   "outputs": [],
   "source": []
  }
 ],
 "metadata": {
  "kernelspec": {
   "display_name": "Python 3 (ipykernel)",
   "language": "python",
   "name": "python3"
  },
  "language_info": {
   "codemirror_mode": {
    "name": "ipython",
    "version": 3
   },
   "file_extension": ".py",
   "mimetype": "text/x-python",
   "name": "python",
   "nbconvert_exporter": "python",
   "pygments_lexer": "ipython3",
   "version": "3.13.0"
  }
 },
 "nbformat": 4,
 "nbformat_minor": 5
}
