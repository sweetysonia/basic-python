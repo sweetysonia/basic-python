{
  "nbformat": 4,
  "nbformat_minor": 0,
  "metadata": {
    "colab": {
      "provenance": []
    },
    "kernelspec": {
      "name": "python3",
      "display_name": "Python 3"
    },
    "language_info": {
      "name": "python"
    }
  },
  "cells": [
    {
      "cell_type": "code",
      "execution_count": 1,
      "metadata": {
        "colab": {
          "base_uri": "https://localhost:8080/"
        },
        "id": "oKKQ1adPfx66",
        "outputId": "d3c34f04-921c-4b77-df93-cfef2ed0eb06"
      },
      "outputs": [
        {
          "output_type": "stream",
          "name": "stdout",
          "text": [
            "The number is greater than 5.\n"
          ]
        }
      ],
      "source": [
        "number = 10\n",
        "\n",
        "if number > 5:\n",
        "    print(\"The number is greater than 5.\")\n"
      ]
    },
    {
      "cell_type": "code",
      "source": [
        "number = 3\n",
        "\n",
        "if number > 5:\n",
        "    print(\"The number is greater than 5.\")\n",
        "else:\n",
        "    print(\"The number is not greater than 5.\")\n"
      ],
      "metadata": {
        "colab": {
          "base_uri": "https://localhost:8080/"
        },
        "id": "TnWst72QgKSY",
        "outputId": "62adf5f8-1fd2-4def-c49f-31cfaedebf64"
      },
      "execution_count": 2,
      "outputs": [
        {
          "output_type": "stream",
          "name": "stdout",
          "text": [
            "The number is not greater than 5.\n"
          ]
        }
      ]
    },
    {
      "cell_type": "code",
      "source": [
        "number = 7\n",
        "\n",
        "if number > 10:\n",
        "    print(\"The number is greater than 10.\")\n",
        "elif number > 5:\n",
        "    print(\"The number is greater than 5 but less than or equal to 10.\")\n",
        "else:\n",
        "    print(\"The number is 5 or less.\")\n"
      ],
      "metadata": {
        "colab": {
          "base_uri": "https://localhost:8080/"
        },
        "id": "opO63HGpgPPN",
        "outputId": "1c2ad8f4-0fe0-4771-daa6-b69f7969913b"
      },
      "execution_count": 3,
      "outputs": [
        {
          "output_type": "stream",
          "name": "stdout",
          "text": [
            "The number is greater than 5 but less than or equal to 10.\n"
          ]
        }
      ]
    },
    {
      "cell_type": "code",
      "source": [
        "number = 15\n",
        "\n",
        "if number > 10:\n",
        "    print(\"The number is greater than 10.\")\n",
        "\n",
        "    if number % 2 == 0:\n",
        "        print(\"The number is also even.\")\n",
        "    else:\n",
        "        print(\"The number is odd.\")\n",
        "else:\n",
        "    print(\"The number is 10 or less.\")\n"
      ],
      "metadata": {
        "colab": {
          "base_uri": "https://localhost:8080/"
        },
        "id": "mamrIe_AgWi3",
        "outputId": "96882479-365b-44bd-a8c2-14d7a2d51e02"
      },
      "execution_count": 4,
      "outputs": [
        {
          "output_type": "stream",
          "name": "stdout",
          "text": [
            "The number is greater than 10.\n",
            "The number is odd.\n"
          ]
        }
      ]
    },
    {
      "cell_type": "code",
      "source": [
        "number = 8\n",
        "\n",
        "if number > 5 and number < 15:\n",
        "    print(\"The number is between 5 and 15.\")\n",
        "\n",
        "if number < 10 or number % 2 == 0:\n",
        "    print(\"The number is either less than 10 or even.\")\n"
      ],
      "metadata": {
        "colab": {
          "base_uri": "https://localhost:8080/"
        },
        "id": "bCz291B4geqF",
        "outputId": "7a4e38e1-5695-4ead-f94d-86685c5c448f"
      },
      "execution_count": 5,
      "outputs": [
        {
          "output_type": "stream",
          "name": "stdout",
          "text": [
            "The number is between 5 and 15.\n",
            "The number is either less than 10 or even.\n"
          ]
        }
      ]
    },
    {
      "cell_type": "code",
      "source": [
        "fruits = [\"apple\", \"banana\", \"cherry\"]\n",
        "\n",
        "if \"apple\" in fruits:\n",
        "    print(\"Apple is in the list of fruits.\")\n"
      ],
      "metadata": {
        "colab": {
          "base_uri": "https://localhost:8080/"
        },
        "id": "3NS_920bglFR",
        "outputId": "8dc49383-039e-4b16-b066-d2f76f942ff0"
      },
      "execution_count": 6,
      "outputs": [
        {
          "output_type": "stream",
          "name": "stdout",
          "text": [
            "Apple is in the list of fruits.\n"
          ]
        }
      ]
    },
    {
      "cell_type": "code",
      "source": [
        "user_age = int(input(\"Enter your age: \"))\n",
        "\n",
        "if user_age >= 18:\n",
        "    print(\"You are eligible to vote.\")\n",
        "else:\n",
        "    print(\"You are not eligible to vote.\")\n"
      ],
      "metadata": {
        "colab": {
          "base_uri": "https://localhost:8080/"
        },
        "id": "vUhaQ0Rvgt_o",
        "outputId": "53aaa30a-e8fb-4bb6-b15b-dcf9f1686a52"
      },
      "execution_count": 8,
      "outputs": [
        {
          "output_type": "stream",
          "name": "stdout",
          "text": [
            "Enter your age: 35\n",
            "You are eligible to vote.\n"
          ]
        }
      ]
    }
  ]
}