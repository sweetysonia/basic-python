{
  "nbformat": 4,
  "nbformat_minor": 0,
  "metadata": {
    "colab": {
      "provenance": []
    },
    "kernelspec": {
      "name": "python3",
      "display_name": "Python 3"
    },
    "language_info": {
      "name": "python"
    }
  },
  "cells": [
    {
      "cell_type": "code",
      "execution_count": 1,
      "metadata": {
        "colab": {
          "base_uri": "https://localhost:8080/"
        },
        "id": "GHBS-5Z44TiB",
        "outputId": "59b57a0c-d13a-4f82-86eb-1073feb08fb7"
      },
      "outputs": [
        {
          "output_type": "stream",
          "name": "stdout",
          "text": [
            "[1 2 3 4 5]\n",
            "[[1 2 3]\n",
            " [4 5 6]]\n",
            "[[0. 0. 0.]\n",
            " [0. 0. 0.]\n",
            " [0. 0. 0.]]\n",
            "[[1. 1. 1. 1.]\n",
            " [1. 1. 1. 1.]]\n"
          ]
        }
      ],
      "source": [
        "import numpy as np\n",
        "\n",
        "# Creating a 1D array\n",
        "array_1d = np.array([1, 2, 3, 4, 5])\n",
        "print(array_1d)\n",
        "\n",
        "# Creating a 2D array\n",
        "array_2d = np.array([[1, 2, 3], [4, 5, 6]])\n",
        "print(array_2d)\n",
        "\n",
        "# Creating arrays with initial values\n",
        "zeros = np.zeros((3, 3))  # 3x3 array of zeros\n",
        "ones = np.ones((2, 4))    # 2x4 array of ones\n",
        "print(zeros)\n",
        "print(ones)\n"
      ]
    },
    {
      "cell_type": "code",
      "source": [
        "# Basic arithmetic operations\n",
        "array_sum = array_1d + 10\n",
        "print(array_sum)  # Output: [11 12 13 14 15]\n",
        "\n",
        "array_product = array_1d * 2\n",
        "print(array_product)  # Output: [2 4 6 8 10]\n",
        "\n",
        "# Element-wise operations\n",
        "array_diff = array_1d - array_product\n",
        "print(array_diff)  # Output: [-1  0  1  2  3]\n",
        "\n",
        "array_square = array_1d ** 2\n",
        "print(array_square)  # Output: [ 1  4  9 16 25]"
      ],
      "metadata": {
        "colab": {
          "base_uri": "https://localhost:8080/"
        },
        "id": "cybaBFyX5AUN",
        "outputId": "e8d0e797-829d-4e0e-be40-32313e86d15e"
      },
      "execution_count": 2,
      "outputs": [
        {
          "output_type": "stream",
          "name": "stdout",
          "text": [
            "[11 12 13 14 15]\n",
            "[ 2  4  6  8 10]\n",
            "[-1 -2 -3 -4 -5]\n",
            "[ 1  4  9 16 25]\n"
          ]
        }
      ]
    },
    {
      "cell_type": "code",
      "source": [
        "# Indexing\n",
        "element = array_1d[2]\n",
        "print(element)  # Output: 3\n",
        "\n",
        "# Slicing\n",
        "sub_array = array_1d[1:4]\n",
        "print(sub_array)  # Output: [2 3 4]\n",
        "\n",
        "# Advanced slicing\n",
        "reverse_array = array_1d[::-1]\n",
        "print(reverse_array)  # Output: [5 4 3 2 1]\n"
      ],
      "metadata": {
        "colab": {
          "base_uri": "https://localhost:8080/"
        },
        "id": "RvNBFiSi5CMe",
        "outputId": "67319301-2588-49c5-9c54-24fa804afd07"
      },
      "execution_count": 3,
      "outputs": [
        {
          "output_type": "stream",
          "name": "stdout",
          "text": [
            "3\n",
            "[2 3 4]\n",
            "[5 4 3 2 1]\n"
          ]
        }
      ]
    },
    {
      "cell_type": "code",
      "source": [
        "# Matrix multiplication\n",
        "matrix_a = np.array([[1, 2], [3, 4]])\n",
        "matrix_b = np.array([[5, 6], [7, 8]])\n",
        "matrix_product = np.dot(matrix_a, matrix_b)\n",
        "print(matrix_product)  # Output: [[19 22]\n",
        "                       #          [43 50]]\n",
        "\n",
        "# Transpose of a matrix\n",
        "transpose = np.transpose(matrix_a)\n",
        "print(transpose)  # Output: [[1 3]\n",
        "                       #          [2 4]]\n"
      ],
      "metadata": {
        "colab": {
          "base_uri": "https://localhost:8080/"
        },
        "id": "8H4HMuxF5HV9",
        "outputId": "019698e7-e9a4-485a-f2df-c2a1132b933e"
      },
      "execution_count": 4,
      "outputs": [
        {
          "output_type": "stream",
          "name": "stdout",
          "text": [
            "[[19 22]\n",
            " [43 50]]\n",
            "[[1 3]\n",
            " [2 4]]\n"
          ]
        }
      ]
    },
    {
      "cell_type": "code",
      "source": [
        "# Basic statistical operations\n",
        "mean = np.mean(array_1d)\n",
        "median = np.median(array_1d)\n",
        "std_dev = np.std(array_1d)\n",
        "sum_total = np.sum(array_1d)\n",
        "\n",
        "print(mean)      # Output: 3.0\n",
        "print(median)    # Output: 3.0\n",
        "print(std_dev)   # Output: 1.4142135623730951\n",
        "print(sum_total) # Output: 15"
      ],
      "metadata": {
        "colab": {
          "base_uri": "https://localhost:8080/"
        },
        "id": "zik004Kx5NRl",
        "outputId": "86c65a68-8bf9-4104-a5b3-fedb6e8fe945"
      },
      "execution_count": 5,
      "outputs": [
        {
          "output_type": "stream",
          "name": "stdout",
          "text": [
            "3.0\n",
            "3.0\n",
            "1.4142135623730951\n",
            "15\n"
          ]
        }
      ]
    },
    {
      "cell_type": "code",
      "source": [
        "# Generating random numbers\n",
        "random_array = np.random.rand(3, 3)\n",
        "print(random_array)\n",
        "\n",
        "random_integers = np.random.randint(0, 10, size=(3, 3))\n",
        "print(random_integers)\n"
      ],
      "metadata": {
        "colab": {
          "base_uri": "https://localhost:8080/"
        },
        "id": "jANHNQQa5RO-",
        "outputId": "b6b1b887-9708-4e34-bd3c-dd553feb86cf"
      },
      "execution_count": 6,
      "outputs": [
        {
          "output_type": "stream",
          "name": "stdout",
          "text": [
            "[[0.3410638  0.88843588 0.28745408]\n",
            " [0.72522327 0.06299277 0.26005483]\n",
            " [0.2502351  0.09034856 0.70316393]]\n",
            "[[3 2 8]\n",
            " [4 4 6]\n",
            " [8 0 5]]\n"
          ]
        }
      ]
    }
  ]
}